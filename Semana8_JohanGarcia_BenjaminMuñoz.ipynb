{
 "cells": [
  {
   "cell_type": "code",
   "execution_count": 1,
   "id": "bb5d3752",
   "metadata": {},
   "outputs": [],
   "source": [
    "import matplotlib\n",
    "import pandas\n",
    "import numpy as np\n",
    "import matplotlib.pyplot as plt \n",
    "import os.path as path\n",
    "import wget\n",
    "import pandas as pd\n",
    "from scipy.optimize import curve_fit\n",
    "from mpl_toolkits.mplot3d import Axes3D"
   ]
  },
